{
  "cells": [
    {
      "cell_type": "markdown",
      "metadata": {
        "id": "2LDjNwV-L07C"
      },
      "source": [
        "# Аналитика данных с помощью `pandas` и `matplotlib`"
      ]
    },
    {
      "cell_type": "markdown",
      "source": [
        "В этом задании вам предлагается выполнить анализ данных криптовалют с помощью библиотек pandas и matplotlib.\n",
        "Задание выглядит как лабораторная работа, в которой вам предстоит заполнить недостающие клетки и ответить на ряд вопросов.\n",
        " - [Официальная документация pandas](https://pandas.pydata.org/)\n",
        " - [Официальная документация matplotlib](https://matplotlib.org/index.html)"
      ],
      "metadata": {
        "id": "yahCEf27L8Xz"
      }
    },
    {
      "cell_type": "markdown",
      "source": [
        "> **Напоминание**\n",
        ">\n",
        ">Минимальные баллы для получения зачёта по этой работе - **1 балл**. Если вы не набираете тут 1 балл, то по всему курсу вы получаете неуд (см. слайды с вводной презентации)."
      ],
      "metadata": {
        "id": "nER0dTZGMCPM"
      }
    },
    {
      "cell_type": "markdown",
      "metadata": {
        "id": "dWNu1zPiL07Q"
      },
      "source": [
        "## 1. Данные (2 балла)"
      ]
    },
    {
      "cell_type": "markdown",
      "source": [
        "Скачиваем данные для работы:"
      ],
      "metadata": {
        "id": "Nh7axXM5MrlX"
      }
    },
    {
      "cell_type": "code",
      "source": [
        "%%bash\n",
        "gdown 1e-Q_15W7ExExQarKqgjrtoO-LHi9oJs3"
      ],
      "metadata": {
        "id": "bzRxn9yrMq79",
        "colab": {
          "base_uri": "https://localhost:8080/"
        },
        "outputId": "22b8f45a-4fd0-4003-afd7-d96ea7a6ac4a"
      },
      "execution_count": 20,
      "outputs": [
        {
          "output_type": "stream",
          "name": "stderr",
          "text": [
            "Downloading...\n",
            "From: https://drive.google.com/uc?id=1e-Q_15W7ExExQarKqgjrtoO-LHi9oJs3\n",
            "To: /content/coins.csv\n",
            "\r  0%|          | 0.00/3.98M [00:00<?, ?B/s]\r100%|██████████| 3.98M/3.98M [00:00<00:00, 93.0MB/s]\n"
          ]
        }
      ]
    },
    {
      "cell_type": "markdown",
      "metadata": {
        "id": "rxz0pXGIL07S"
      },
      "source": [
        "Начнем с необходимых приготовлений."
      ]
    },
    {
      "cell_type": "code",
      "execution_count": 21,
      "metadata": {
        "id": "-G3lHlpmL07T"
      },
      "outputs": [],
      "source": [
        "import numpy as np\n",
        "import pandas as pd\n",
        "import matplotlib as mpl  \n",
        "import matplotlib.pyplot as plt\n",
        "import ipywidgets  # Библиотека для интерактивных контролов в jupyter notebook'е\n",
        "\n",
        "%matplotlib inline"
      ]
    },
    {
      "cell_type": "markdown",
      "metadata": {
        "id": "syVncWO5L07X"
      },
      "source": [
        "#### Загрузите заранее подготовленный датасет из файла *\"coins.csv\"*. Создайте объект типа `pandas.DataFrame` с именем `coins` и в качестве индекса выберите колонку с датой."
      ]
    },
    {
      "cell_type": "code",
      "execution_count": 22,
      "metadata": {
        "id": "3a-dnCG0L07Z"
      },
      "outputs": [],
      "source": [
        "# Paste your code here\n",
        "data = pd.read_csv(\"coins.csv\")\n",
        "coins = pd.DataFrame(data)"
      ]
    },
    {
      "cell_type": "markdown",
      "metadata": {
        "id": "XYauvggmL07a"
      },
      "source": [
        "Посмотрим что получилось"
      ]
    },
    {
      "cell_type": "code",
      "execution_count": 24,
      "metadata": {
        "id": "l4uGAbw2L07e",
        "outputId": "f95ef55c-2517-4826-ac2f-25640d69f793",
        "colab": {
          "base_uri": "https://localhost:8080/"
        }
      },
      "outputs": [
        {
          "output_type": "stream",
          "name": "stdout",
          "text": [
            "         date   price  txCount      txVolume  activeAddresses symbol  \\\n",
            "0  2013-04-28  135.30  41702.0  6.879868e+07         117984.0    BTC   \n",
            "1  2013-04-28    4.30   9174.0  4.431952e+07          17216.0    LTC   \n",
            "2  2013-04-29  134.44  51602.0  1.138128e+08          86925.0    BTC   \n",
            "3  2013-04-29    4.37   9275.0  3.647810e+07          18395.0    LTC   \n",
            "\n",
            "       name    open    high     low   close  volume        market  \n",
            "0   Bitcoin  135.30  135.98  132.10  134.21     0.0  1.500520e+09  \n",
            "1  Litecoin    4.30    4.40    4.18    4.35     0.0  7.377340e+07  \n",
            "2   Bitcoin  134.44  147.49  134.00  144.54     0.0  1.491160e+09  \n",
            "3  Litecoin    4.37    4.57    4.23    4.38     0.0  7.495270e+07  \n"
          ]
        }
      ],
      "source": [
        "coins.head(4)"
      ]
    },
    {
      "cell_type": "markdown",
      "metadata": {
        "id": "KVwDhn2bL07i"
      },
      "source": [
        "Поясним значения хранящиеся в колонках\n",
        " - date - дата измерений\n",
        " - name - полное название монеты\n",
        " - symbol - сокращенное название монеты\n",
        " - price - средняя цена монеты за торговый день в USD\n",
        " - txCount - количество транзакций в сети данной монеты\n",
        " - txVolume - объем монет переведенных между адресами в сети данной монеты\n",
        " - activeAddresses - количество адресов совершавших а данный день транзации в сети данной монеты\n",
        " - open - цена монеты в начале торгов данного дня\n",
        " - close - цена монеты в конце торгов данного дня\n",
        " - high - самая высокая цена данной монеты в течение данного торгового дня\n",
        " - low - самая низкая цена данной монеты в течение данного торгового дня\n",
        " - volume - объем торгов данной монетой на биржах в данный день\n",
        " - market - капитализация данной монеты в данный день"
      ]
    },
    {
      "cell_type": "markdown",
      "source": [
        "Изучим полученные данные. Ответьте на следующие вопросы (вставляйте клетки с кодом и тектом ниже):"
      ],
      "metadata": {
        "id": "_q8b6IndNKmV"
      }
    },
    {
      "cell_type": "markdown",
      "metadata": {
        "id": "7ud0R7PcL07k"
      },
      "source": [
        "### 1. Сколько всего различных монет представлено в датасете? (0.4 балла)"
      ]
    },
    {
      "cell_type": "markdown",
      "source": [
        "Сокращённые названия монет уникальны, найдём их количество."
      ],
      "metadata": {
        "id": "k3aiSwIhg97i"
      }
    },
    {
      "cell_type": "code",
      "execution_count": 25,
      "metadata": {
        "id": "oN2d3V71L07m",
        "colab": {
          "base_uri": "https://localhost:8080/"
        },
        "outputId": "b81915f0-25c5-4e29-fe64-bfc04d5d6146"
      },
      "outputs": [
        {
          "output_type": "stream",
          "name": "stdout",
          "text": [
            "66\n"
          ]
        }
      ],
      "source": [
        "print(len(set(coins['symbol'])))"
      ]
    },
    {
      "cell_type": "code",
      "source": [
        "print(np.NaN in coins['symbol'])"
      ],
      "metadata": {
        "colab": {
          "base_uri": "https://localhost:8080/"
        },
        "id": "0M1gOpHjgiDR",
        "outputId": "558652d0-b7db-4843-bcd5-990ac1ec6909"
      },
      "execution_count": 27,
      "outputs": [
        {
          "output_type": "stream",
          "name": "stdout",
          "text": [
            "False\n"
          ]
        }
      ]
    },
    {
      "cell_type": "markdown",
      "source": [
        "Как видим, нет"
      ],
      "metadata": {
        "id": "cARSv9nYhMqU"
      }
    },
    {
      "cell_type": "markdown",
      "metadata": {
        "id": "TDffn2rLL07n"
      },
      "source": [
        "### 2. За какой период данные мы имеем? (0.4 балла)"
      ]
    },
    {
      "cell_type": "code",
      "execution_count": 33,
      "metadata": {
        "id": "7Ucmnjv1L07p",
        "colab": {
          "base_uri": "https://localhost:8080/"
        },
        "outputId": "39c1b37a-ce9a-49cb-ffc9-1394954235e4"
      },
      "outputs": [
        {
          "output_type": "stream",
          "name": "stdout",
          "text": [
            "c 2013-04-28 по 2018-06-06\n"
          ]
        }
      ],
      "source": [
        "\n",
        "print('c', min(coins['date']),'по', max(coins['date']))\n"
      ]
    },
    {
      "cell_type": "markdown",
      "metadata": {
        "id": "XFHJsy_5L07p"
      },
      "source": [
        "### 3. Есть ли пропуски в данных? Какой природы эти пропуски, чем они скорее всего вызваны? (0.5 балла)"
      ]
    },
    {
      "cell_type": "code",
      "execution_count": 17,
      "metadata": {
        "id": "D-nOmmFjL07r",
        "colab": {
          "base_uri": "https://localhost:8080/"
        },
        "outputId": "95075245-c205-45d7-af54-704d3523f8b1"
      },
      "outputs": [
        {
          "output_type": "stream",
          "name": "stdout",
          "text": [
            "             date      price  txCount  txVolume  activeAddresses symbol  \\\n",
            "1816   2014-08-05   0.002976      NaN       NaN              NaN    XLM   \n",
            "1824   2014-08-06   0.002373      NaN       NaN              NaN    XLM   \n",
            "1832   2014-08-07   0.002686      NaN       NaN              NaN    XLM   \n",
            "1840   2014-08-08   0.002493      NaN       NaN              NaN    XLM   \n",
            "1848   2014-08-09   0.002884      NaN       NaN              NaN    XLM   \n",
            "...           ...        ...      ...       ...              ...    ...   \n",
            "37437  2018-06-04        NaN    847.0       NaN            698.0    VEN   \n",
            "37470  2018-06-05  13.580000      NaN       NaN              NaN    EOS   \n",
            "37507  2018-06-05        NaN    632.0       NaN            588.0    VEN   \n",
            "37540  2018-06-06  14.250000      NaN       NaN              NaN    EOS   \n",
            "37577  2018-06-06        NaN    603.0       NaN            528.0    VEN   \n",
            "\n",
            "          name       open       high        low      close        volume  \\\n",
            "1816   Stellar   0.002976   0.003387   0.002349   0.002440  3.031600e+04   \n",
            "1824   Stellar   0.002373   0.003402   0.002266   0.002657  3.582000e+04   \n",
            "1832   Stellar   0.002686   0.003042   0.002455   0.002501  1.428640e+05   \n",
            "1840   Stellar   0.002493   0.003243   0.002493   0.002881  9.370800e+04   \n",
            "1848   Stellar   0.002884   0.003710   0.002873   0.003481  2.335790e+05   \n",
            "...        ...        ...        ...        ...        ...           ...   \n",
            "37437  VeChain   4.060000   4.170000   3.830000   3.890000  9.283970e+07   \n",
            "37470      EOS  13.580000  14.230000  12.970000  14.200000  1.445140e+09   \n",
            "37507  VeChain   3.890000   4.150000   3.800000   4.090000  8.376190e+07   \n",
            "37540      EOS  14.250000  14.260000  13.480000  13.940000  1.022290e+09   \n",
            "37577  VeChain   4.100000   4.880000   3.990000   4.140000  1.205590e+08   \n",
            "\n",
            "             market  \n",
            "1816   7.725970e+05  \n",
            "1824   7.465540e+05  \n",
            "1832   9.769420e+05  \n",
            "1840   1.075820e+06  \n",
            "1848   1.261300e+06  \n",
            "...             ...  \n",
            "37437  2.135810e+09  \n",
            "37470  1.217170e+10  \n",
            "37507  2.047090e+09  \n",
            "37540  1.277380e+10  \n",
            "37577  2.154240e+09  \n",
            "\n",
            "[1830 rows x 13 columns]\n"
          ]
        }
      ],
      "source": [
        "coins_with_passes = coins[coins.isnull().any(axis=1)]\n",
        "\n",
        "coins_with_passes"
      ]
    },
    {
      "cell_type": "markdown",
      "source": [
        "Пропуски существуют. Предположу, что это из-за того, что некоторые из монет скрывают данные об операциях."
      ],
      "metadata": {
        "id": "vWKJJiscfb1T"
      }
    },
    {
      "cell_type": "markdown",
      "metadata": {
        "id": "Da-aXu_hL07s"
      },
      "source": [
        "### 4. У какой монеты и когда была самая высокая цена? (0.2 балла)"
      ]
    },
    {
      "cell_type": "code",
      "execution_count": 18,
      "metadata": {
        "id": "-D50115vL07t",
        "colab": {
          "base_uri": "https://localhost:8080/"
        },
        "outputId": "88ada6e6-f811-40df-9e97-c6b625d66bcf"
      },
      "outputs": [
        {
          "output_type": "stream",
          "name": "stdout",
          "text": [
            "             date    price   txCount      txVolume  activeAddresses symbol  \\\n",
            "25971  2017-12-17  19475.8  391725.0  3.746920e+10        1176110.0    BTC   \n",
            "\n",
            "          name     open     high      low    close        volume        market  \n",
            "25971  Bitcoin  19475.8  20089.0  18974.1  19140.8  1.331460e+10  3.261410e+11  \n"
          ]
        }
      ],
      "source": [
        "max_price = max(coins['high'])\n",
        "\n",
        "coins[coins['high'] == max_price]"
      ]
    },
    {
      "cell_type": "markdown",
      "metadata": {
        "id": "3F9UdmukL07u"
      },
      "source": [
        "### 5. У какой монеты самая высокая и самая низкая суммарная капитализация? Постройте круговую диаграмму с долями. (0.5 балла)"
      ]
    },
    {
      "cell_type": "code",
      "execution_count": 19,
      "metadata": {
        "id": "VeoJsuP6L07v",
        "colab": {
          "base_uri": "https://localhost:8080/",
          "height": 1000
        },
        "outputId": "07a28286-6da4-4a9c-d521-dff08f8fb855"
      },
      "outputs": [
        {
          "output_type": "execute_result",
          "data": {
            "text/plain": [
              "<matplotlib.axes._subplots.AxesSubplot at 0x7f4bb17ae0d0>"
            ]
          },
          "metadata": {},
          "execution_count": 19
        },
        {
          "output_type": "display_data",
          "data": {
            "text/plain": [
              "<Figure size 432x288 with 1 Axes>"
            ],
            "image/png": "[encoded data removed]"
          },
          "metadata": {}
        }
      ],
      "source": [
        "df = pd.DataFrame({'coin': coins['name'], 'market' : coins['market']})\n",
        "df.groupby(['coin']).sum().plot(kind='pie', y='market')"
      ]
    },
    {
      "cell_type": "markdown",
      "metadata": {
        "id": "Q2uOSfUsL07w"
      },
      "source": [
        "## 2. Визуализация (1 балл)"
      ]
    },
    {
      "cell_type": "markdown",
      "metadata": {
        "id": "uwjJ-L7tL07w"
      },
      "source": [
        "Самая интересная часть работы аналитика состоит во внимательном вглядывании в правильно выбранные и построенные графики."
      ]
    },
    {
      "cell_type": "markdown",
      "source": [
        "**Реализуйте функцию для визуализации цен выбранной валюты за выбранный диапазон дат.**"
      ],
      "metadata": {
        "id": "mtUf5gGiNa6z"
      }
    },
    {
      "cell_type": "markdown",
      "metadata": {
        "id": "9qevVDaEL07x"
      },
      "source": [
        "На графике должны быть видны цены начала и конца продаж. А так же минимальная и максимальная цена за этот день.\n",
        "Подпишите график и оси координат. Добавьте сетку. Увеличьте размер изображения.\n",
        "Можете попробовать использовать `matplotlib.finance.candlestick_ohlc` (`mpl_finance.candlestick_ohlc`), но можно и без него."
      ]
    },
    {
      "cell_type": "code",
      "execution_count": null,
      "metadata": {
        "scrolled": false,
        "id": "mR_RvLetL07y"
      },
      "outputs": [],
      "source": [
        "def plot_fancy_price_action(coins, symbol, start_date, end_date):\n",
        "    # Paste your code here"
      ]
    },
    {
      "cell_type": "markdown",
      "metadata": {
        "id": "C1F_4oSmL07z"
      },
      "source": [
        "Посмотрим, что получилось:"
      ]
    },
    {
      "cell_type": "code",
      "execution_count": null,
      "metadata": {
        "id": "VIF6IvysL070"
      },
      "outputs": [],
      "source": [
        "plot_fancy_price_action(coins=coins, symbol='VERI', start_date='2013-06-01', end_date='2019-06-30') "
      ]
    },
    {
      "cell_type": "markdown",
      "metadata": {
        "id": "cPzieShSL070"
      },
      "source": [
        "Никакого датасаенса в этом задании нет. Просто аналитик должен уметь строить графики, либо знать готовые инструменты."
      ]
    },
    {
      "cell_type": "markdown",
      "metadata": {
        "id": "8eizRenYL071"
      },
      "source": [
        "## 3. Накачка и сброс (1 балл)"
      ]
    },
    {
      "cell_type": "markdown",
      "source": [
        "Криптовалютные биржи до сих пор остаются маргинальным местом, эдаким диким западом финансового мира. Как следствие, здесь процветают схемы относительно\n",
        "честного отъема денег. Одна из них - **pump'n'dump** (накачка и сброс). \n",
        "\n",
        "Она выглядит следуюшим образом. Несколько крупных игроков или много мелких договариваются вместе купить малоизвестную монету с низкой ценой и объемом торгов. Это приводит к мгновенному взлету цены (pump), далее приходят неопытные игроки в надежде успеть заработать на таком росте. В этот момент организаторы схемы начнают все продавать (dump). Весь процесс занимает от нескольких минут до нескольких часов."
      ],
      "metadata": {
        "id": "WFgtlhMKNjtX"
      }
    },
    {
      "cell_type": "markdown",
      "source": [
        "Ваша задача -- **найти самый сильный pump'n'dump** монеты на заданном промежутке времени. Для этого для каждого дня определим число `pnd` равное отношению максимальной цены монеты в данный день к максимуму из цен открытия и закрытия в тот же день. Нужно найти день, когда `pnd` был максимален и величину `pnd`."
      ],
      "metadata": {
        "id": "EXsHpJmHNstO"
      }
    },
    {
      "cell_type": "code",
      "execution_count": null,
      "metadata": {
        "id": "rzA20Gm6L072"
      },
      "outputs": [],
      "source": [
        "def find_most_severe_pump_and_dump(coins, symbol, start_date, end_date):\n",
        "    # Paste your code here"
      ]
    },
    {
      "cell_type": "code",
      "execution_count": null,
      "metadata": {
        "id": "VZjM8FJ-L073"
      },
      "outputs": [],
      "source": [
        "find_most_severe_pump_and_dump(coins, symbol='BTC', start_date='2017-06-01', end_date='2018-06-01')"
      ]
    },
    {
      "cell_type": "markdown",
      "metadata": {
        "id": "nos0kiTFL073"
      },
      "source": [
        "Сравните эти значения для разных монет:"
      ]
    },
    {
      "cell_type": "code",
      "execution_count": null,
      "metadata": {
        "id": "EXJgxg7HL074"
      },
      "outputs": [],
      "source": []
    },
    {
      "cell_type": "markdown",
      "metadata": {
        "id": "4I9QAGfGL074"
      },
      "source": [
        "## 4. Окупаемость инвестиций (1 балл)"
      ]
    },
    {
      "cell_type": "markdown",
      "metadata": {
        "id": "Ts7GdSZJL075"
      },
      "source": [
        "Вам нужно посчитать **окупаемость инвестиций (ROI)** в криптовалюты на заданном промежутке времени. \n",
        "\n",
        "Окупаемость определяется как отношение *изменения цены портфеля* к *исходной цене портфеля*. Цена портфеля - это суммарная стоимость (в USD) всех монет в портфеле.\n",
        "\n",
        "`investments` - словарь, в котором ключи - это названия монет, значения - это сумма вложений в эту монету (в USD)."
      ]
    },
    {
      "cell_type": "code",
      "execution_count": null,
      "metadata": {
        "id": "RwDtgKjhL076"
      },
      "outputs": [],
      "source": [
        "def compute_roi(coins, investments, start_date, end_date):\n",
        "    # Paste your code here"
      ]
    },
    {
      "cell_type": "code",
      "execution_count": null,
      "metadata": {
        "id": "oWW8XBrIL076"
      },
      "outputs": [],
      "source": [
        "compute_roi(coins, investments={'BTC': 1000, 'LTC': 500}, start_date='2018-04-04', end_date='2018-06-01')"
      ]
    },
    {
      "cell_type": "code",
      "execution_count": null,
      "metadata": {
        "id": "UQDAuP_QL077"
      },
      "outputs": [],
      "source": [
        "compute_roi(coins, investments={'BTC': 1000, 'LTC': 500}, start_date='2013-05-28', end_date='2018-06-06')"
      ]
    },
    {
      "cell_type": "markdown",
      "metadata": {
        "id": "Xz7CvTFqL078"
      },
      "source": [
        "## 5. Технический анализ (1 балл)"
      ]
    },
    {
      "cell_type": "markdown",
      "metadata": {
        "id": "NFsh0yEqL078"
      },
      "source": [
        "**Технический анализ** - это способ предсказания поведения графика по некоторым вспомогательным величинам построенным по исходному графику. Один из простейших методов технического анализа - **[границы Боллинджера](https://en.wikipedia.org/wiki/Bollinger_Bands)**. Кто-то верит, что график касаясь границы от него должен отражаться.\n",
        "\n",
        "Границы считаются очень просто: \n",
        "\n",
        "$$(MA \\pm K\\sigma),$$\n",
        "\n",
        "где `MA` - скользящее среднее за `N` дней, а $\\sigma$ - скользящее стандартное отклонение за `N` дней."
      ]
    },
    {
      "cell_type": "markdown",
      "metadata": {
        "id": "Mo4GLdibL079"
      },
      "source": [
        "Нарисуйте **график цены**, **скользящее среднее** и **границы Боллинджера** c параметрами `N (window) = 21`, `K (width) = 2`.\n",
        "\n",
        "Тут вам поможет функция `rolling` для подсчёта среднего и стандартного отклонения по скользящему окну.\n",
        "\n",
        "Не забудьте подписать график и оси, отрисовать легенду и выбрать для нее лучшее расположение."
      ]
    },
    {
      "cell_type": "code",
      "execution_count": null,
      "metadata": {
        "id": "zf4zMAGkL079"
      },
      "outputs": [],
      "source": [
        "def plot_bollinger_bands(coins, symbol, window, width):\n",
        "    # Paste your code here"
      ]
    },
    {
      "cell_type": "code",
      "execution_count": null,
      "metadata": {
        "id": "dWBsySLJL07-"
      },
      "outputs": [],
      "source": [
        "plot_bollinger_bands(coins=coins, symbol='EOS', window=21, width=2)  # тут должен появиться график"
      ]
    },
    {
      "cell_type": "markdown",
      "metadata": {
        "id": "pJAYp_pUL07_"
      },
      "source": [
        "**Сделайте вывод о том, выполнялось ли правило Боллинджера:**"
      ]
    },
    {
      "cell_type": "markdown",
      "metadata": {
        "id": "k7NsxSsUL07_"
      },
      "source": [
        "**Ваш ответ тут**"
      ]
    },
    {
      "cell_type": "markdown",
      "metadata": {
        "id": "41k4GlWGL08A"
      },
      "source": [
        "## 6. Капитализация как индикатор (1 балл)"
      ]
    },
    {
      "cell_type": "markdown",
      "metadata": {
        "id": "sONehy4zL08A"
      },
      "source": [
        "Многие люди, которые торгуют криптовалютой, любят смотреть на [капитализацию](https://academy.binance.com/ru/articles/crypto-market-capitalization-explained). Давайте поймём почему."
      ]
    },
    {
      "cell_type": "markdown",
      "metadata": {
        "id": "4spBUSr5L08B"
      },
      "source": [
        "**Нарисуйте еще два графика:**\n",
        "1. общая капитализация биткойна (BTC), эфира (ETH), еос (EOS), биткойн кэша (BCH), стеллара (XLM) и лайткойна (LTC)\n",
        "2. доли капитализаций этих монет от общей капитализации рынка. \n",
        "\n",
        "При этом используйте данные начиная с 2017-07-01."
      ]
    },
    {
      "cell_type": "code",
      "execution_count": null,
      "metadata": {
        "scrolled": false,
        "id": "xHMMSJg6L08B"
      },
      "outputs": [],
      "source": [
        "def plot_coins_capitalizations(coins, symbols, start_date):\n",
        "    # Paste your code here"
      ]
    },
    {
      "cell_type": "code",
      "execution_count": null,
      "metadata": {
        "id": "jOD_z5hYL08C"
      },
      "outputs": [],
      "source": [
        "plot_coins_capitalizations(\n",
        "    coins=coins,\n",
        "    symbols=('BTC', 'ETH', 'EOS', 'BCH', 'XLM', 'LTC'),\n",
        "    start_date='2017-07-01'\n",
        ")"
      ]
    },
    {
      "cell_type": "markdown",
      "metadata": {
        "id": "A_qkmlioL08C"
      },
      "source": [
        "Проанализируйте зависимость доли капитализации альткойнов (остальных монет, кроме биткойна) от доли капитализации биткойна. Как выдумаете, в чём причина такой зависимости?"
      ]
    },
    {
      "cell_type": "markdown",
      "metadata": {
        "id": "RzJXy2cjL08D"
      },
      "source": [
        "**Ваш ответ тут**"
      ]
    },
    {
      "cell_type": "markdown",
      "metadata": {
        "id": "5TtUAu7PL08E"
      },
      "source": [
        "## 7. Корреляции монет (1 балл)"
      ]
    },
    {
      "cell_type": "markdown",
      "metadata": {
        "id": "ii_8rp4YL08E"
      },
      "source": [
        "Теперь нужно подробнее посмотреть на корреляции средних долей капитализаций монет. При этом будем смотреть на среднее сглаженное за последние `window` дней до дня `date` с коэффициентом сглаживания `alpha` для набора монет `symbols`.\n",
        "\n",
        "Реализуйте функцию, которая будет возвращать квадратный `DataFrame` с числом строк и столбцов, равным числу рассматриваемых монет и со значениями корреляций:"
      ]
    },
    {
      "cell_type": "code",
      "execution_count": null,
      "metadata": {
        "id": "lxZQQuBxL08E"
      },
      "outputs": [],
      "source": [
        "def calc_coins_correlations(coins, date, symbols, window, alpha):\n",
        "    # Paste your code here"
      ]
    },
    {
      "cell_type": "code",
      "execution_count": null,
      "metadata": {
        "id": "L8iBTKhuL08F"
      },
      "outputs": [],
      "source": [
        "correlations = calc_coins_correlations(coins, date=\"2018-06-06\",\n",
        "                                       symbols=['BTC', 'ETH', 'EOS', 'BCH', 'XLM', 'LTC', 'ADA'],\n",
        "                                       window=21, alpha=0.1)\n",
        "# Теперь посмотрим на эти корреляции следующим образом:\n",
        "correlations.style.background_gradient(cmap='coolwarm').set_precision(2)"
      ]
    },
    {
      "cell_type": "markdown",
      "metadata": {
        "id": "QbBg3mgjL08F"
      },
      "source": [
        "Довольно интересно ещё взглянуть на 2017-12-27:"
      ]
    },
    {
      "cell_type": "code",
      "execution_count": null,
      "metadata": {
        "id": "IJrYVdA0L08G"
      },
      "outputs": [],
      "source": [
        "correlations = calc_coins_correlations(coins, date=\"2017-12-27\",\n",
        "                                       symbols=['BTC', 'ETH', 'EOS', 'BCH', 'XLM', 'LTC', 'ADA'],\n",
        "                                       window=21, alpha=0.1)\n",
        "# Теперь посмотрим на эти корреляции следующим образом:\n",
        "correlations.style.background_gradient(cmap='coolwarm').set_precision(2)"
      ]
    },
    {
      "cell_type": "markdown",
      "metadata": {
        "id": "D4kyPV0CL08G"
      },
      "source": [
        "## 8. Анализ одной стратегии (2 балла)"
      ]
    },
    {
      "cell_type": "markdown",
      "metadata": {
        "id": "Y8rQ5WIML08H"
      },
      "source": [
        "Разберем один мечтательный пример. Посмотрим какую прибыль могла бы нам принести хрестоматийная торговая стратегия, основанная на скользящих средних.\n",
        "\n",
        "Стратегия выглядит следующим образом: мы строим две скользящие среднии для графика цены. С маленьким окном (ведущее скользящее среднее) и с бОльшим окном (запаздывающее скользящее среднее). **Мы покупаем, когда ведущее среднее становится больше запаздывающего, и продаем в противном случае.**\n",
        "\n",
        "Посмотрим на пример:"
      ]
    },
    {
      "cell_type": "code",
      "execution_count": null,
      "metadata": {
        "id": "gEPEQGSTL08H",
        "outputId": "d4bbd2f4-ba46-45d9-c930-35daf6ae0a48"
      },
      "outputs": [
        {
          "data": {
            "image/png": "[encoded data removed]",
            "text/plain": [
              "<Figure size 1152x648 with 1 Axes>"
            ]
          },
          "metadata": {
            "needs_background": "light"
          },
          "output_type": "display_data"
        }
      ],
      "source": [
        "def plot_moving_averages(coins, symbol, leading_window, lagging_window, start_date, end_date):\n",
        "    coin = coins[coins['symbol'] == symbol][start_date:end_date]\n",
        "    price = coin['price']\n",
        "    leading_mean = price.rolling(window=leading_window).mean()\n",
        "    lagging_mean = price.rolling(window=lagging_window).mean()\n",
        "\n",
        "    fig = plt.figure(figsize=(16, 9))\n",
        "    ax = fig.add_subplot(111)\n",
        "    \n",
        "    ax.set_title('Price action for {}'.format(symbol))\n",
        "    ax.plot(leading_mean, color='green', label='MA{}'.format(leading_window))\n",
        "    ax.plot(lagging_mean, color='red', label='MA{}'.format(lagging_window))\n",
        "    ax.plot(price, color='blue', label='price')\n",
        "    ax.set_xlabel('Date')\n",
        "    ax.set_ylabel('Price')\n",
        "    ax.legend(loc='best')\n",
        "    ax.grid(True)\n",
        "    plt.show() \n",
        "\n",
        "plot_moving_averages(\n",
        "    coins=coins, \n",
        "    symbol='BTC', \n",
        "    leading_window=21, \n",
        "    lagging_window=50, \n",
        "    start_date='2017-05-01',\n",
        "    end_date='2018-08-01')"
      ]
    },
    {
      "cell_type": "markdown",
      "metadata": {
        "id": "pK6shsqJL08I"
      },
      "source": [
        "Видно, что скользящее среднее с бОльшим окном медленнее реагирует на изменение цены. Именно на этой идее и основана торговая стратегия.\n",
        "\n",
        "\n",
        "**Реализуйте функцию**, которая строит два графика. На правом будут изображены цена и скользящие средние. На левом - во сколько раз изменится размер вложений при использовании нашей стратегии и при обычном инвестировании (купили и держим, смотрим как растет цена наших купленных валют)."
      ]
    },
    {
      "cell_type": "markdown",
      "source": [
        ">**Примечания:**\n",
        ">- Давайте использовать только цены закрытия. При этом, чтобы узнать цены за вчерашний день, стоит использовать метод `shift(1)` у `Series`.\n",
        ">- Отношение цен закрытия за сегодня и за вчера - это **multiplier** за сегодняшний день. При этом давайте строить графики накопления для multiplier-ов. Т.е. если мы смотрим на 3 дня и в первый день multiplier = 1.5, во второй - 0.5 и в третий - 2, то график будет выглядеть так: (1.5, 1.5 * 0.5, 1.5 * 0.5 * 2).\n",
        ">- При использовании нашей новой стратегии мы будем либо покупать, если ведущее среднее становится больше запаздующего на некоторый `threshold` (при этом лучше разницу сперва поделить на цену), либо оставлять всё как есть. При этом, конечно, нужно, принимая решения за сегодняшний день, смотреть только на статистику из прошлого."
      ],
      "metadata": {
        "id": "AcdF_qkJQ2Xy"
      }
    },
    {
      "cell_type": "code",
      "execution_count": null,
      "metadata": {
        "scrolled": false,
        "id": "gp86AGWyL08I"
      },
      "outputs": [],
      "source": [
        "def plot_moving_averages_strategy(\n",
        "    coins, symbol, lead_window, lag_window, threshold, start_date, end_date\n",
        "):\n",
        "    # Paste your code here"
      ]
    },
    {
      "cell_type": "code",
      "execution_count": null,
      "metadata": {
        "id": "m2CDc_kkL08J"
      },
      "outputs": [],
      "source": [
        "# Теперь на основе реализованной функции сделаем интерактивные графики и поизучаем, что получилось:\n",
        "symbol_selector = ipywidgets.Dropdown(\n",
        "    options=('BTC', 'ETH', 'EOS', 'BCH', 'XLM', 'LTC', 'ADA'),\n",
        "    index=0,\n",
        "    value='BTC',\n",
        "    layout={'width': '700px'},\n",
        "    continuous_update=False\n",
        ")\n",
        "\n",
        "lead_window_slider = ipywidgets.IntSlider(\n",
        "    value=21, \n",
        "    min=1, \n",
        "    max=200, \n",
        "    step=1,\n",
        "    layout={'width': '700px'},\n",
        "    continuous_update=False)\n",
        "\n",
        "lag_window_slider = ipywidgets.IntSlider(\n",
        "    value=50,\n",
        "    min=1, \n",
        "    max=200, \n",
        "    layout={'width': '700px'},\n",
        "    step=1, continuous_update=False)\n",
        "\n",
        "threshold_slider = ipywidgets.FloatSlider(\n",
        "    min=0, \n",
        "    max=0.20, \n",
        "    step=0.001, \n",
        "    value=0.025,\n",
        "    layout={'width': '700px'},\n",
        "    continuous_update=False)\n",
        "\n",
        "start_date_slider = ipywidgets.SelectionSlider(\n",
        "    options=pd.date_range('2013-04-28', '2018-06-06', freq='D'),\n",
        "    index=0,\n",
        "    value=pd.Timestamp('2017-05-01'),\n",
        "    layout={'width': '700px'},\n",
        "    continuous_update=False\n",
        ")\n",
        "\n",
        "end_date_slider = ipywidgets.SelectionSlider(\n",
        "    options=pd.date_range('2013-04-28', '2018-06-06', freq='D'),\n",
        "    index=0,\n",
        "    value=pd.Timestamp('2018-01-01'),\n",
        "    layout={'width': '700px'},\n",
        "    continuous_update=False\n",
        ")\n",
        "\n",
        "ipywidgets.interact(\n",
        "    plot_moving_averages_strategy,\n",
        "    coins=ipywidgets.fixed(coins),\n",
        "    symbol=symbol_selector,\n",
        "    lead_window=lead_window_slider,\n",
        "    lag_window=lag_window_slider,\n",
        "    threshold=threshold_slider,\n",
        "    start_date=start_date_slider,\n",
        "    end_date=end_date_slider\n",
        ")"
      ]
    },
    {
      "cell_type": "markdown",
      "metadata": {
        "id": "M0nDeThDL08K"
      },
      "source": [
        "Попробуйте разные значения параметров для разных монет и сделайте выводы о применимости такой модели:"
      ]
    },
    {
      "cell_type": "markdown",
      "metadata": {
        "id": "48-ixm47L08K"
      },
      "source": [
        "**Ваш ответ тут**"
      ]
    },
    {
      "cell_type": "markdown",
      "metadata": {
        "id": "ln30vuzhL08L"
      },
      "source": [
        "## 9. Отказ от ответственности "
      ]
    },
    {
      "cell_type": "markdown",
      "source": [
        "Все примеры разобранных здесь стратегий являются игрушечными и не подходят для реальной торговли на бирже. Без серьезной подготовки вас там съедят с потрохами."
      ],
      "metadata": {
        "id": "TJsrHxbTT7ZH"
      }
    }
  ],
  "metadata": {
    "kernelspec": {
      "display_name": "Python 3",
      "language": "python",
      "name": "python3"
    },
    "language_info": {
      "codemirror_mode": {
        "name": "ipython",
        "version": 3
      },
      "file_extension": ".py",
      "mimetype": "text/x-python",
      "name": "python",
      "nbconvert_exporter": "python",
      "pygments_lexer": "ipython3",
      "version": "3.8.5"
    },
    "colab": {
      "provenance": [],
      "collapsed_sections": [
        "41k4GlWGL08A",
        "5TtUAu7PL08E"
      ]
    }
  },
  "nbformat": 4,
  "nbformat_minor": 0
}